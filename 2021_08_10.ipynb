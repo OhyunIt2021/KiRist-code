{
  "nbformat": 4,
  "nbformat_minor": 0,
  "metadata": {
    "colab": {
      "name": "2021-08-10.ipynb",
      "provenance": [],
      "collapsed_sections": []
    },
    "kernelspec": {
      "name": "python3",
      "display_name": "Python 3"
    },
    "language_info": {
      "name": "python"
    }
  },
  "cells": [
    {
      "cell_type": "code",
      "metadata": {
        "id": "w6Sx2aVos3lH"
      },
      "source": [
        "#And게이트 구현하기\n",
        "#입력 x1과 x2가 모두 참일때 1을 출력\n",
        "\n",
        "def ANDgate(x1,x2):\n",
        "  w1, w2, theta = 1, 1, 1.9\n",
        "  value = w1*x1 + w2*x2\n",
        "  if value <= theta:\n",
        "    return 0\n",
        "  elif value > theta:\n",
        "    return 1"
      ],
      "execution_count": null,
      "outputs": []
    },
    {
      "cell_type": "code",
      "metadata": {
        "colab": {
          "base_uri": "https://localhost:8080/"
        },
        "id": "ei5V9G3qtfQP",
        "outputId": "6e16fdb0-4463-42ca-9b29-e0413ef017b2"
      },
      "source": [
        "print(ANDgate(1,1))\n",
        "print(ANDgate(0,0))\n",
        "print(ANDgate(1,0))\n",
        "print(ANDgate(0,1))"
      ],
      "execution_count": null,
      "outputs": [
        {
          "output_type": "stream",
          "text": [
            "1\n",
            "0\n",
            "0\n",
            "0\n"
          ],
          "name": "stdout"
        }
      ]
    },
    {
      "cell_type": "code",
      "metadata": {
        "id": "tKEQ9xOLtuz3"
      },
      "source": [
        "def NANDgate(x1,x2):\n",
        "  w1, w2, theta = 1, 1, 1.9\n",
        "  value = w1*x1 + w2*x2\n",
        "  if value <= theta:\n",
        "    return 1\n",
        "  elif value > theta:\n",
        "    return 0"
      ],
      "execution_count": null,
      "outputs": []
    },
    {
      "cell_type": "code",
      "metadata": {
        "colab": {
          "base_uri": "https://localhost:8080/"
        },
        "id": "BAGPvl9SuYqP",
        "outputId": "3eda2cf0-6614-4583-898c-492b2235c2ca"
      },
      "source": [
        "print(NANDgate(1,1))\n",
        "print(NANDgate(0,0))\n",
        "print(NANDgate(1,0))\n",
        "print(NANDgate(0,1))"
      ],
      "execution_count": null,
      "outputs": [
        {
          "output_type": "stream",
          "text": [
            "0\n",
            "1\n",
            "1\n",
            "1\n"
          ],
          "name": "stdout"
        }
      ]
    },
    {
      "cell_type": "code",
      "metadata": {
        "id": "pHtoWR3AubJ-"
      },
      "source": [
        "def ORgate(x1,x2):\n",
        "  w1,w2,theta = 1, 1, 0\n",
        "  value = w1*x1 + w2*x2\n",
        "  if value <= theta:\n",
        "    return 0\n",
        "  elif value > theta:\n",
        "    return 1"
      ],
      "execution_count": null,
      "outputs": []
    },
    {
      "cell_type": "code",
      "metadata": {
        "colab": {
          "base_uri": "https://localhost:8080/"
        },
        "id": "AbFBWu0rvMOe",
        "outputId": "f8f50114-13a3-4fbb-f5cd-c957975055b4"
      },
      "source": [
        "print(ORgate(1,1))\n",
        "print(ORgate(0,0))\n",
        "print(ORgate(1,0))\n",
        "print(ORgate(0,1))"
      ],
      "execution_count": null,
      "outputs": [
        {
          "output_type": "stream",
          "text": [
            "1\n",
            "0\n",
            "1\n",
            "1\n"
          ],
          "name": "stdout"
        }
      ]
    },
    {
      "cell_type": "code",
      "metadata": {
        "id": "Vw76EWZlvVDG"
      },
      "source": [
        ""
      ],
      "execution_count": null,
      "outputs": []
    }
  ]
} 
